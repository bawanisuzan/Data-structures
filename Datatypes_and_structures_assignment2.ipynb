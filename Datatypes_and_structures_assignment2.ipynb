{
  "nbformat": 4,
  "nbformat_minor": 0,
  "metadata": {
    "colab": {
      "provenance": []
    },
    "kernelspec": {
      "name": "python3",
      "display_name": "Python 3"
    },
    "language_info": {
      "name": "python"
    }
  },
  "cells": [
    {
      "cell_type": "markdown",
      "source": [
        "# **Theory Questions**"
      ],
      "metadata": {
        "id": "TRrJk5BcUAKN"
      }
    },
    {
      "cell_type": "markdown",
      "source": [
        "1. What are data structures, and why are they important?\n",
        "  * Data structures are specialized formats for organizing, storing, and managing data so it can be used efficiently.\n",
        "  *  They are containers or blueprints that helps in storing different types of data in ways that suit the problem.\n",
        "  * They are important due to the following reasons:\n",
        "    - Efficient data access like insertion, deletion etc\n",
        "    - Better code organization which keeps the logic clean and modular.\n",
        "    - Scalability where right structure makes the app scale better with more data.\n",
        "    - Data structures help in representing real-world systems like queues at a bank (queue), Contact lists (dictionary), Social networks (graph).\n",
        "    \n",
        "2. Explain the difference between mutable and immutable data types with examples.\n",
        "  * In Python, mutability refers to whether an object can be changed after it's created.\n",
        "  * Mutable datatypes:\n",
        "    - You can change their content (add, remove, or modify elements) without changing their identity (i.e., memory address stays the same).\n",
        "    - Examples of mutable datatypes are lists, dictionaries, sets, bytearray etc.\n",
        "  * Immutable datatypes:\n",
        "    - These cannot be changed after creation. Any modification results in a new object being created.\n",
        "    - Examples of immutable datatypes are strings, int, float, tuple bytes etc.\n",
        "\n",
        "3. What are the main differences between lists and tuples in Python?\n",
        "  * Both lists and tuples are used to store collections of items, but they have different properties, use cases, and behaviors.\n",
        "  * Initialization:\n",
        "    - Lists are enclosed within square brackets[] whereas tuples are enclosed within parenthesis().\n",
        "  * Mutability:\n",
        "    - Lists can be modified and we can add, update and remove items from a list wheras tuples don't allow data modification.\n",
        "  * Performance:\n",
        "    - Lists are slightly slower than tuples and use higher memory than tuples whereas tuples are fixed in size and structure, which makes them lightweight and optimizable.\n",
        "  * Use case:\n",
        "    - Lists can be used when flexibility is required and data is changed frequently.\n",
        "    - Tuples are used when security, speed and fixed structure is required.\n",
        "\n",
        "4. Describe how dictionaries store data.\n",
        "  * Dictionaries store data using a hash-based mechanism that enables fast and efficient key-value access. This makes them ideal for tasks requiring lookup, insertion, and deletion based on custom identifiers.\n",
        "  * How It Works:\n",
        "  1. Key is Hashed: Python computes a unique integer (hash) from the key using a built-in hash() function.\n",
        "  2. Index is Calculated: The hash value determines the index where the key-value pair will be placed in an underlying array.\n",
        "  3. Value is Stored at Index: The key and its corresponding value are stored in a \"bucket\" at the computed index.\n",
        "\n",
        "5. Why might you use a set instead of a list in Python.\n",
        "  * A set is used instead of a list due to the following reasons:\n",
        "    1. Uniqueness:\n",
        "      - A set automatically removes duplicates making the data unique whereas list does not.\n",
        "    2. Speed:\n",
        "      - Set lookups are faster than list lookups due to the hashing. Set lookups time complexity is O(1) whereas list lookups time complexity is O(n)\n",
        "    3. Built-in math set operations support:\n",
        "      - Sets have built in math support for set operations like union, intersection, difference etc which makes it great for filtering, comparing datasets, or finding overlaps.\n",
        "    * In short, using a set is preferable when uniqueness and speed is needed, whereas using a list is preferable when order matters and duplication of elements is required.\n",
        "\n",
        "6. What is a string in Python, and how is it different from a list?\n",
        "  * A string in Python is a sequence of characters, enclosed in single or double quotes. It's a textual data type, used to store names, messages, input, etc.\n",
        "  * A string is an immutable sequence of characters meant for textual data, while a list is a mutable, more flexible container that can hold anything—even strings.\n",
        "  * A string datatype should be used when when working with plain text, storing a sentence or text-related methods.\n",
        "  * A list datatype should be used when working with the collection of items, or one wants to modify, append or remove the elements, or flexibilitywith different data types is needed.\n",
        "\n",
        "7. How do tuples ensure data integrity in Python.\n",
        "  * Tuples ensure data integrity by being immutable, hashable, and structurally stable—perfect for storing constants, fixed-format records, or anything you want to lock down from accidental or malicious modification.\n",
        "    1. Immutability:\n",
        "      * Once a tuple is created, you cannot change, add, or remove any of its elements which makes it immutable. This makes tuples perfect for read-only data or values that must not be altered during execution.\n",
        "    2. Hash functionality:\n",
        "      * Because tuples are immutable, they're hashable, so they can be used as dictionary keys and set elements.\n",
        "    3. Data contracts and API safety:\n",
        "      * If you're returning fixed-structure data (like (name, age, location)), using a tuple ensures the structure won't be accidentally modified which means your API consumers get data with guaranteed format and no side effects.\n",
        "\n",
        "8. What is a hash table, and how does it relate to dictionaries in Python?\n",
        "  * A hash table is a data structure that stores key-value pairs using a hashing function to compute an index (or hash) into an array of buckets.\n",
        "  * This allows fast access to values by their keys, ideally in O(1) time.\n",
        "  * Working of Hash Table:\n",
        "    1. Hashing the Key: A key (e.g., \"name\") is passed through a hash function to generate a unique hash code — an integer.\n",
        "    2. Index Mapping: That hash code is then mapped to an index in an internal array where the value is stored.\n",
        "    3. Handling Collisions: When two keys hash to the same index (a collision), Python uses techniques like open addressing or chaining to store both.\n",
        "  \n",
        "  * Python dictionaries are built-in hash tables. So, the keys of the dictionaries are hashed and the values stored at positions are determined by their hashes.\n",
        "  * A hash table is the underlying engine powering Python dictionaries. It enables fast, efficient storage and retrieval of data using keys, making dictionaries one of Python's most powerful and widely used data structures.\n",
        "\n",
        "9. Can lists contain different data types in Python?\n",
        "  * Yes, lists can contain different data types in python.\n",
        "  * Python lists are dynamic and heterogeneous, meaning they can store multiple types of data within the same list.\n",
        "  * Syntax:  `mixed_list = [42, \"hello\", 3.14, True, None, [1, 2, 3]]`\n",
        "  * Python is a dynamically typed language. The type of each element is stored with the value itself. The list just holds references to objects, regardless of type.\n",
        "  * It is useful because:\n",
        "    - Allows flexible data structures.\n",
        "    - Simplifies quick prototyping and scripting.\n",
        "    - Makes Python ideal for working with JSON, user inputs, or complex nested data.\n",
        "\n",
        "10. Explain why strings are immutable in Python.\n",
        "  * Strings are immutable in Python to ensure memory efficiency, hashability, thread safety, and predictable behavior.\n",
        "  * When trying to change a string, a new string is created but the original string is not modified.\n",
        "\n",
        "11. What advantages do dictionaries offer over lists for certain tasks.\n",
        "  * Use a dictionary when you need to access values by key instead of by position. It's like switching from guessing to knowing.\n",
        "  * The adavntages of dictionaries are presented below:\n",
        "  ```\n",
        "            Feature\t                     Dictionary (dict)\t              List (list)\n",
        "      1. Fast Lookup by Key\t        O(1) average time\t                O(n) time (linear search)\n",
        "      2. Meaningful Key Access\t     user[\"name\"] is intuitive\t        user[0] is ambiguous\n",
        "      3. Better for Structured Data\tMimics JSON-like objects\t         Only index-based storage\n",
        "      4. No Key Duplicates\t         Unique keys enforce data integrity   Duplicates are allowed\n",
        "      5. Easier Updates\t            data[\"score\"] = 95\t               Need to know index\n",
        "      6. Safer with Missing Data\t   Use .get(\"key\") with fallback\t    List index errors on out-of-range\n",
        "  ```\n",
        "12. Describe a scenario where using a tuple would be preferable over a list.\n",
        "  * A tuple would be preferable over a list when data integrity and immutability are required—meaning the data should not be modified after it is created. One such scenario is when storing geographic coordinates, such as a latitude and longitude pair.\n",
        "  * Tuples are ideal for storing fixed collections of values such as coordinates, RGB color codes, or configuration settings, where maintaining immutability and consistency is essential.\n",
        "  * Example Scenario:\n",
        "      Suppose an application needs to store the location of cities for mapping purposes. These coordinates should remain constant throughout the program execution to prevent accidental modification.\n",
        "\n",
        "      `city_location = (\"Rajkot\", 22.3039, 70.8022)`\n",
        "\n",
        "      In this case, The data should remain unchanged after being set.\n",
        "  * Tuples ensure that developers cannot accidentally update the coordinates.\n",
        "  * Tuples can be used as dictionary keys, whereas lists cannot because they are mutable.\n",
        "\n",
        "13. How do sets handle duplicate values in Python.\n",
        "  * In Python, a set is an unordered collection of unique elements. This means that sets automatically eliminate duplicates.\n",
        "  * Working of sets:\n",
        "    - Hashing: Sets use a hash function to determine the position of each element.\n",
        "    - Uniqueness Enforcement: When adding an element, the set checks its hash value. If an element with the same hash already exists, the new one is ignored.\n",
        "    - No Order Guarantee: Since sets are unordered, the elements may appear in any order when printed.\n",
        "  * Sets only allow immutable (hashable) items like numbers, strings, and tuples — no lists or dictionaries.\n",
        "  * They are unordered, so no indexing or slicing.\n",
        "\n",
        "14. How does the “in” keyword work differently for lists and dictionaries.\n",
        "  * In Python, the in keyword is used to check for the presence of a value. However, its behavior differs depending on whether it is used with a list or a dictionary.\n",
        "  1. For Lists:\n",
        "      - The in keyword checks whether a value exists in the list.\n",
        "    ```\n",
        "      fruits = [\"apple\", \"banana\", \"cherry\"]\n",
        "      print(\"banana\" in fruits)  # Output: True\n",
        "    ```\n",
        "      - Here, \"banana\" is an element of the list, so the result is True.\n",
        "\n",
        "  2. For Dictionaries:\n",
        "      - The in keyword checks whether a key exists in the dictionary, not a value.\n",
        "      ```\n",
        "        person = {\"name\": \"Alice\", \"age\": 30}\n",
        "        print(\"name\" in person)    # Output: True\n",
        "        print(\"Alice\" in person)   # Output: False\n",
        "      ```\n",
        "      - Here, \"name\" is a key, so it returns True, but \"Alice\" is a value, so it returns False.\n",
        "      - To check if a value exists in a dictionary, you must use:\n",
        "      ```\n",
        "      print(\"Alice\" in person.values())  # Output: True\n",
        "      ```\n",
        "\n",
        "15. Can you modify the elements of a tuple? Explain why or why not.\n",
        "  * No, the elements of a tuple cannot be modified after the tuple has been created. This is because tuples in Python are immutable, meaning their content is fixed and unchangeable once defined.\n",
        "  * When a tuple is created, Python allocates a fixed block of memory to store the elements. Allowing modification would break the immutability contract, which could lead to unexpected behavior—especially when tuples are used as keys in dictionaries or elements in sets, where stability of data is essential.\n",
        "  * Tuples are immutable by design to ensure data integrity, especially in scenarios where the data must remain constant throughout the program execution. Any attempt to modify a tuple will result in an error.\n",
        "\n",
        "16. What is a nested dictionary, and give an example of its use case.\n",
        "  * A nested dictionary in Python is a dictionary that contains another dictionary as a value. This allows for hierarchical or multi-level data structures, where each key can map to another dictionary instead of a single value.\n",
        "  * Nested dictionaries are useful for representing structured, tabular, or hierarchical data, such as records in a database, configurations, or JSON-like structures. They provide a clean and scalable way to organize complex datasets.\n",
        "  * Use Case Example: Student Management System\n",
        "      - A nested dictionary is ideal for representing a database of student records, where each student has multiple attributes such as name, age, and marks.\n",
        "      ```\n",
        "      student_records = {\n",
        "          \"101\": {\"name\": \"Alice\", \"age\": 21, \"marks\": 85},\n",
        "          \"102\": {\"name\": \"Bob\", \"age\": 22, \"marks\": 90}\n",
        "      }\n",
        "      print(student_records[\"102\"][\"marks\"])  # Output: 90\n",
        "      ```\n",
        "      - In the example above:\n",
        "          The outer dictionary uses student IDs as keys.The value for each student ID is another dictionary holding that student's details.\n",
        "\n",
        "17. Describe the time complexity of accessing elements in a dictionary.\n",
        "  * Accessing elements in a Python dictionary has an average-case time complexity of O(1), meaning it takes constant time regardless of the dictionary's size.\n",
        "  * Dictionaries provide highly efficient key-based access with an average time complexity of O(1), making them an optimal choice for situations requiring fast lookups, insertions, and deletions by key.\n",
        "  * Explanation:\n",
        "      -  Python dictionaries are implemented using hash tables. When a key is used to access a value, the key is hashed. The hash determines the index in the internal storage array and the value is retrieved directly from that index.\n",
        "  * This process allows for extremely fast lookups on average.\n",
        "\n",
        "  * Best Case (Average):\n",
        "      - Time Complexity: O(1)\n",
        "      - Condition: When the hash function distributes keys uniformly and there are minimal collisions.\n",
        "\n",
        "  * Worst Case:\n",
        "      - Time Complexity: O(n)\n",
        "      - Condition: Occurs in rare scenarios with many hash collisions, causing keys to be stored in a list-like structure. However, Python uses robust hash functions to reduce this risk significantly.\n",
        "\n",
        "18. In what situations are lists preferred over dictionaries.\n",
        "  * Lists are preferred over dictionaries in situations where:\n",
        "  1. Order Matters:\n",
        "      - Lists maintain insertion order (especially since Python 3.7+), and are ideal when the position of elements is important.\n",
        "      - Example: Creating a to-do list or a queue of tasks\n",
        "\n",
        "        ```tasks = [\"email\", \"meeting\", \"report\"]```\n",
        "\n",
        "  2. Data Without Key-Value Relationship:\n",
        "      - When you have a collection of items that don’t require unique identifiers or custom keys, a list is the simpler and more appropriate data structure\n",
        "      - Example: Storing a group of student names:\n",
        "\n",
        "        ```students = [\"Alice\", \"Bob\", \"Charlie\"]```\n",
        "\n",
        "  3. Iteration in Sequence:\n",
        "      - If the goal is to loop over items in a strict sequence, lists offer more intuitive and efficient traversal.\n",
        "      - Example:\n",
        "        ```\n",
        "        for student in students:\n",
        "            print(student)\n",
        "        ```\n",
        "  4. Memory Efficiency (in some cases):\n",
        "      - Lists can be more memory-efficient than dictionaries, as dictionaries require additional space for storing keys and handling hash collisions.\n",
        "\n",
        "19. Why are dictionaries considered unordered, and how does that affect data retrieval.\n",
        "  * Historically, dictionaries in Python were considered unordered collections because they did not guarantee the order of key-value pairs. This meant the insertion sequence of items could not be relied upon when retrieving or iterating through the dictionary.\n",
        "  * Dictionaries are considered unordered in a logical sense because data is retrieved by key, not by position. While newer versions of Python preserve insertion order, this should not be relied upon for algorithms where strict sequence control is required—use lists or collections.OrderedDict (pre-3.7) for that.\n",
        "  * Impact on data retrieval:\n",
        "  1. Access by Key is Still Fast and Reliable:\n",
        "      - Regardless of order, accessing values by keys is always consistent and has average time complexity O(1).\n",
        "  2. Not Suitable for Positional Access:\n",
        "      - Dictionaries do not support index-based access like lists.\n",
        "\n",
        "20. Explain the difference between a list and a dictionary in terms of data retrieval.\n",
        "  * The core difference between a list and a dictionary in Python lies in how data is accessed:\n",
        "  * List: Indexed Retrieval\n",
        "      - Lists use integer indices to access elements.\n",
        "      - Data is retrieved based on the position of the element in the list.\n",
        "      - Indexing starts at 0.\n",
        "      - Example:\n",
        "      ```\n",
        "        fruits = [\"apple\", \"banana\", \"cherry\"]\n",
        "        print(fruits[1])  # Output: banana\n",
        "      ```\n",
        "\n",
        "  * Dictionary: Key-Based Retrieval\n",
        "      - Dictionaries use unique keys (usually strings, numbers, or tuples) to retrieve values.\n",
        "      - Data is accessed using the key associated with each value.\n",
        "      - Example:\n",
        "      ```\n",
        "      person = {\"name\": \"Alice\", \"age\": 30}\n",
        "      print(person[\"age\"])  # Output: 30\n",
        "      ```\n",
        "\n",
        "  * Use lists when you need to access elements by position and maintain an ordered sequence. Use dictionaries when you need to access data by meaningful identifiers (keys) and require fast lookups.\n",
        "\n"
      ],
      "metadata": {
        "id": "LsFePVyBUSb2"
      }
    },
    {
      "cell_type": "markdown",
      "source": [
        "# **Practical Questions**"
      ],
      "metadata": {
        "id": "sGdbk-ACUHvc"
      }
    },
    {
      "cell_type": "markdown",
      "source": [
        "**Q1. Write a code to create a string with your name and print it.**"
      ],
      "metadata": {
        "id": "vSShkrt46o5A"
      }
    },
    {
      "cell_type": "code",
      "execution_count": null,
      "metadata": {
        "id": "7oLdvKfbToJj",
        "colab": {
          "base_uri": "https://localhost:8080/"
        },
        "outputId": "22c1342a-4445-4716-f274-ccebe128d8f6"
      },
      "outputs": [
        {
          "output_type": "stream",
          "name": "stdout",
          "text": [
            "My name is Suzan\n"
          ]
        }
      ],
      "source": [
        "name = \"Suzan\"\n",
        "print(f\"My name is {name}\")"
      ]
    },
    {
      "cell_type": "markdown",
      "source": [
        "Q2.Write a code to find the length of the string \"Hello World\""
      ],
      "metadata": {
        "id": "conC_DF36_nV"
      }
    },
    {
      "cell_type": "code",
      "source": [
        "greeting = \"Hello World\"\n",
        "print(f\"Length of the string 'Hello World' is: {len(greeting)}\")"
      ],
      "metadata": {
        "colab": {
          "base_uri": "https://localhost:8080/"
        },
        "id": "UnvGi5H9w3Ir",
        "outputId": "8a26b874-8f4c-4410-f16a-49381f8b940d"
      },
      "execution_count": null,
      "outputs": [
        {
          "output_type": "stream",
          "name": "stdout",
          "text": [
            "Length of the string 'Hello World' is: 11\n"
          ]
        }
      ]
    },
    {
      "cell_type": "markdown",
      "source": [
        "Q3. Write a code to slice the first 3 characters from the string \"Python Programming\""
      ],
      "metadata": {
        "id": "0IYaaXxWxJvl"
      }
    },
    {
      "cell_type": "code",
      "source": [
        "str1 = \"Python Programming\"\n",
        "print(f\"First 3 characters of the string 'Python Programming' are: {str1[:3]}\")"
      ],
      "metadata": {
        "colab": {
          "base_uri": "https://localhost:8080/"
        },
        "id": "Bux94GwYxRoq",
        "outputId": "ff702821-dd44-4890-8dd5-fadba6ec4aec"
      },
      "execution_count": null,
      "outputs": [
        {
          "output_type": "stream",
          "name": "stdout",
          "text": [
            "First 3 characters of the string 'Python Programming' are: Pyt\n"
          ]
        }
      ]
    },
    {
      "cell_type": "markdown",
      "source": [
        "Q4. Write a code to convert the string \"hello\" to uppercase"
      ],
      "metadata": {
        "id": "WpO3gsP6xa2u"
      }
    },
    {
      "cell_type": "code",
      "source": [
        "greeting = \"hello\"\n",
        "print(f\"Uppercase of the string 'hello' is: {greeting.upper()}\")"
      ],
      "metadata": {
        "colab": {
          "base_uri": "https://localhost:8080/"
        },
        "id": "5PWdgSC2xgeJ",
        "outputId": "85f2e0be-43b2-490a-c874-e5cf29fcfc08"
      },
      "execution_count": null,
      "outputs": [
        {
          "output_type": "stream",
          "name": "stdout",
          "text": [
            "Uppercase of the string 'hello' is: HELLO\n"
          ]
        }
      ]
    },
    {
      "cell_type": "markdown",
      "source": [
        "Q5. Write a code to replace the word \"apple\" with \"orange\" in the string \"I like apple\"."
      ],
      "metadata": {
        "id": "kZBWiOCmxpY_"
      }
    },
    {
      "cell_type": "code",
      "source": [
        "str1 = \"I like apple\"\n",
        "print(f\"Replaced string is: {str1.replace('apple', 'orange')}\")"
      ],
      "metadata": {
        "colab": {
          "base_uri": "https://localhost:8080/"
        },
        "id": "5BfcyvW3xt_7",
        "outputId": "666db002-7bba-49b3-94c9-aabafb7e0c08"
      },
      "execution_count": null,
      "outputs": [
        {
          "output_type": "stream",
          "name": "stdout",
          "text": [
            "Replaced string is: I like orange\n"
          ]
        }
      ]
    },
    {
      "cell_type": "markdown",
      "source": [
        "Q6. Write a code to create a list with numbers 1 to 5 and print it"
      ],
      "metadata": {
        "id": "DJojZ8nqx1Hi"
      }
    },
    {
      "cell_type": "code",
      "source": [
        "num_list = []\n",
        "\n",
        "for num in range(1,6):\n",
        "  num_list.append(num)\n",
        "\n",
        "print(f\"List of numbers is: {num_list}\")"
      ],
      "metadata": {
        "colab": {
          "base_uri": "https://localhost:8080/"
        },
        "id": "KEeoAvsdxyP6",
        "outputId": "70d7d2e5-4987-4295-aae3-9e5f5696062b"
      },
      "execution_count": null,
      "outputs": [
        {
          "output_type": "stream",
          "name": "stdout",
          "text": [
            "List of numbers is: [1, 2, 3, 4, 5]\n"
          ]
        }
      ]
    },
    {
      "cell_type": "markdown",
      "source": [
        "Q7. Write a code to append the number 10 to the list [1, 2, 3, 4]"
      ],
      "metadata": {
        "id": "8OYV5wBDyPtC"
      }
    },
    {
      "cell_type": "code",
      "source": [
        "list1 = [1, 2, 3, 4]\n",
        "list1.append(10)\n",
        "print(f\"Appended list is: {list1}\")"
      ],
      "metadata": {
        "colab": {
          "base_uri": "https://localhost:8080/"
        },
        "id": "sZ0EQfVayK7A",
        "outputId": "8bac47bf-7ed0-4294-d769-fbefe95849ee"
      },
      "execution_count": null,
      "outputs": [
        {
          "output_type": "stream",
          "name": "stdout",
          "text": [
            "Appended list is: [1, 2, 3, 4, 10]\n"
          ]
        }
      ]
    },
    {
      "cell_type": "markdown",
      "source": [
        "Q8. Write a code to remove the number 3 from the list [1, 2, 3, 4, 5]"
      ],
      "metadata": {
        "id": "tcZZOTNZya7h"
      }
    },
    {
      "cell_type": "code",
      "source": [
        "list2 = [1, 2, 3, 4, 5]\n",
        "list2.remove(3)\n",
        "print(f\"Removed list is: {list2}\")"
      ],
      "metadata": {
        "colab": {
          "base_uri": "https://localhost:8080/"
        },
        "id": "8uNSNIfeyhS_",
        "outputId": "d2950c55-4abd-4c38-91a1-63f7d05da449"
      },
      "execution_count": null,
      "outputs": [
        {
          "output_type": "stream",
          "name": "stdout",
          "text": [
            "Removed list is: [1, 2, 4, 5]\n"
          ]
        }
      ]
    },
    {
      "cell_type": "markdown",
      "source": [
        "Q9. Write a code to access the second element in the list ['a', 'b', 'c', 'd']"
      ],
      "metadata": {
        "id": "ued02zHAyrDC"
      }
    },
    {
      "cell_type": "code",
      "source": [
        "list3 = ['a', 'b', 'c', 'd']\n",
        "print(f\"Second element of the list is: {list3[1]}\")"
      ],
      "metadata": {
        "colab": {
          "base_uri": "https://localhost:8080/"
        },
        "id": "ypxHStGD0mVf",
        "outputId": "efa26d85-9d3b-47ef-ab45-f93ee31ae484"
      },
      "execution_count": null,
      "outputs": [
        {
          "output_type": "stream",
          "name": "stdout",
          "text": [
            "Second element of the list is: b\n"
          ]
        }
      ]
    },
    {
      "cell_type": "markdown",
      "source": [
        "Q10. Write a code to reverse the list [10, 20, 30, 40, 50]."
      ],
      "metadata": {
        "id": "6H1peoyw1EEu"
      }
    },
    {
      "cell_type": "code",
      "source": [
        "list4 = [10, 20, 30, 40, 50]\n",
        "print(f\"Reversed list is: {list4[::-1]}\")"
      ],
      "metadata": {
        "colab": {
          "base_uri": "https://localhost:8080/"
        },
        "id": "MFM8a0sg1KrL",
        "outputId": "3f60b58c-fafe-482e-94c0-af515e2da4c7"
      },
      "execution_count": null,
      "outputs": [
        {
          "output_type": "stream",
          "name": "stdout",
          "text": [
            "Reversed list is: [50, 40, 30, 20, 10]\n"
          ]
        }
      ]
    },
    {
      "cell_type": "markdown",
      "source": [
        "Q11. Write a code to create a tuple with the elements 100, 200, 300 and print it."
      ],
      "metadata": {
        "id": "AXRAV8fd1TIC"
      }
    },
    {
      "cell_type": "code",
      "source": [
        "tuple1 = (100, 200, 300)\n",
        "print(f\"Tuple is: {tuple1}\")"
      ],
      "metadata": {
        "colab": {
          "base_uri": "https://localhost:8080/"
        },
        "id": "7bUoZUFa1SLM",
        "outputId": "76fb8ef1-0522-4eb2-fc29-3d8b7404f1d1"
      },
      "execution_count": null,
      "outputs": [
        {
          "output_type": "stream",
          "name": "stdout",
          "text": [
            "Tuple is: (100, 200, 300)\n"
          ]
        }
      ]
    },
    {
      "cell_type": "markdown",
      "source": [
        "Q12.  Write a code to access the second-to-last element of the tuple ('red', 'green', 'blue', 'yellow')."
      ],
      "metadata": {
        "id": "67XqsLy11csD"
      }
    },
    {
      "cell_type": "code",
      "source": [
        "tuple2 = ('red', 'green', 'blue', 'yellow')\n",
        "print(f\"Second-to-last element of the tuple is: {tuple2[-2]}\")"
      ],
      "metadata": {
        "colab": {
          "base_uri": "https://localhost:8080/"
        },
        "id": "bipnvbdP1hc3",
        "outputId": "70e4d62d-08b1-42aa-dfcc-78dde9b4661c"
      },
      "execution_count": null,
      "outputs": [
        {
          "output_type": "stream",
          "name": "stdout",
          "text": [
            "Second-to-last element of the tuple is: blue\n"
          ]
        }
      ]
    },
    {
      "cell_type": "markdown",
      "source": [
        "Q13. Write a code to find the minimum number in the tuple (10, 20, 5, 15)."
      ],
      "metadata": {
        "id": "o4WkhJTf1uWQ"
      }
    },
    {
      "cell_type": "code",
      "source": [
        "tuple3 = (10, 20, 5, 15)\n",
        "print(f\"Minimum number in the tuple is: {min(tuple3)}\")"
      ],
      "metadata": {
        "colab": {
          "base_uri": "https://localhost:8080/"
        },
        "id": "3lIlkSVA1tds",
        "outputId": "f4c53adc-1b33-48cd-fc3a-97eae7a7de8d"
      },
      "execution_count": null,
      "outputs": [
        {
          "output_type": "stream",
          "name": "stdout",
          "text": [
            "Minimum number in the tuple is: 5\n"
          ]
        }
      ]
    },
    {
      "cell_type": "markdown",
      "source": [
        "Q14. Write a code to find the index of the element \"cat\" in the tuple ('dog', 'cat', 'rabbit')."
      ],
      "metadata": {
        "id": "vidBDmcG12FI"
      }
    },
    {
      "cell_type": "code",
      "source": [
        "tuple4 = ('dog', 'cat', 'rabbit')\n",
        "print(f\"Index of the element 'cat' in the tuple is: {tuple4.index('cat')}\")"
      ],
      "metadata": {
        "colab": {
          "base_uri": "https://localhost:8080/"
        },
        "id": "GgbIxPEo16Mq",
        "outputId": "f9925dda-c63a-4e45-a7e1-7eb51b3e4abb"
      },
      "execution_count": null,
      "outputs": [
        {
          "output_type": "stream",
          "name": "stdout",
          "text": [
            "Index of the element 'cat' in the tuple is: 1\n"
          ]
        }
      ]
    },
    {
      "cell_type": "markdown",
      "source": [
        "Q15. Write a code to create a tuple containing three different fruits and check if \"kiwi\" is in it."
      ],
      "metadata": {
        "id": "noJ2plEm1-07"
      }
    },
    {
      "cell_type": "code",
      "source": [
        "tuple5 = ('apple', 'banana', 'orange')\n",
        "print(f\"Is 'kiwi' in the tuple: {'kiwi' in tuple5}\")"
      ],
      "metadata": {
        "colab": {
          "base_uri": "https://localhost:8080/"
        },
        "id": "ToMV60ul2CqJ",
        "outputId": "18634d6c-f092-44ec-abcf-21e9114389f2"
      },
      "execution_count": null,
      "outputs": [
        {
          "output_type": "stream",
          "name": "stdout",
          "text": [
            "Is 'kiwi' in the tuple: False\n"
          ]
        }
      ]
    },
    {
      "cell_type": "markdown",
      "source": [
        "Q16. Write a code to create a set with the elements 'a', 'b', 'c' and print it."
      ],
      "metadata": {
        "id": "VIjMoGHe2KrE"
      }
    },
    {
      "cell_type": "code",
      "source": [
        "set1 = {'a', 'b', 'c'}\n",
        "print(f\"Set is: {set1}\")"
      ],
      "metadata": {
        "colab": {
          "base_uri": "https://localhost:8080/"
        },
        "id": "tmMWZ4mh2N21",
        "outputId": "8d4bc28c-87d3-48b4-b969-759805b8ebef"
      },
      "execution_count": null,
      "outputs": [
        {
          "output_type": "stream",
          "name": "stdout",
          "text": [
            "Set is: {'a', 'c', 'b'}\n"
          ]
        }
      ]
    },
    {
      "cell_type": "markdown",
      "source": [
        "Q17.  Write a code to clear all elements from the set {1, 2, 3, 4, 5}."
      ],
      "metadata": {
        "id": "9CXNi6oW2RzX"
      }
    },
    {
      "cell_type": "code",
      "source": [
        "set2 = {1, 2, 3, 4, 5}\n",
        "set2.clear()\n",
        "print(f\"Cleared set is: {set2}\")"
      ],
      "metadata": {
        "colab": {
          "base_uri": "https://localhost:8080/"
        },
        "id": "cbSbUH5l2WFp",
        "outputId": "eb070f5c-9845-4112-bd85-bcd7e80b8284"
      },
      "execution_count": null,
      "outputs": [
        {
          "output_type": "stream",
          "name": "stdout",
          "text": [
            "Cleared set is: set()\n"
          ]
        }
      ]
    },
    {
      "cell_type": "markdown",
      "source": [
        "Q18. Write a code to remove the element 4 from the set {1, 2, 3, 4}."
      ],
      "metadata": {
        "id": "26mfeKM92ZQM"
      }
    },
    {
      "cell_type": "code",
      "source": [
        "set3 = {1, 2, 3, 4}\n",
        "set3.remove(4)\n",
        "print(f\"Removed set is: {set3}\")"
      ],
      "metadata": {
        "colab": {
          "base_uri": "https://localhost:8080/"
        },
        "id": "wuFIniEs69cl",
        "outputId": "7e8ed6d9-8769-411d-df33-aca639983cf7"
      },
      "execution_count": null,
      "outputs": [
        {
          "output_type": "stream",
          "name": "stdout",
          "text": [
            "Removed set is: {1, 2, 3}\n"
          ]
        }
      ]
    },
    {
      "cell_type": "markdown",
      "source": [
        "Q19. Write a code to find the union of two sets {1, 2, 3} and {3, 4, 5}."
      ],
      "metadata": {
        "id": "YV7W41Hk7BV5"
      }
    },
    {
      "cell_type": "code",
      "source": [
        "set4 = {1, 2, 3}\n",
        "set5 = {3, 4, 5}\n",
        "print(f\"Union of two sets is: {set4.union(set5)}\")"
      ],
      "metadata": {
        "colab": {
          "base_uri": "https://localhost:8080/"
        },
        "id": "5RorV4oS9Phe",
        "outputId": "12976111-7460-41f6-e32b-1922a31f4c51"
      },
      "execution_count": null,
      "outputs": [
        {
          "output_type": "stream",
          "name": "stdout",
          "text": [
            "Union of two sets is: {1, 2, 3, 4, 5}\n"
          ]
        }
      ]
    },
    {
      "cell_type": "markdown",
      "source": [
        "Q20. Write a code to find the intersection of two sets {1, 2, 3} and {2, 3, 4}."
      ],
      "metadata": {
        "id": "wsGN-sVd7Fq-"
      }
    },
    {
      "cell_type": "code",
      "source": [
        "set6 = {1, 2, 3}\n",
        "set7 = {2, 3, 4}\n",
        "print(f\"Intersection of two sets is: {set6.intersection(set7)}\")"
      ],
      "metadata": {
        "colab": {
          "base_uri": "https://localhost:8080/"
        },
        "id": "iCoh9U1n9VWS",
        "outputId": "98d1e6a5-2426-4b84-aefc-42d5b1f41883"
      },
      "execution_count": null,
      "outputs": [
        {
          "output_type": "stream",
          "name": "stdout",
          "text": [
            "Intersection of two sets is: {2, 3}\n"
          ]
        }
      ]
    },
    {
      "cell_type": "markdown",
      "source": [
        "Q21. Write a code to create a dictionary with the keys \"name\", \"age\", and \"city\", and print it."
      ],
      "metadata": {
        "id": "BOv8n6r47OeH"
      }
    },
    {
      "cell_type": "code",
      "source": [
        "dict1 = {\n",
        "    \"name\": \"Suzan\",\n",
        "    \"age\": 25,\n",
        "    \"city\": \"New York\"\n",
        "}\n",
        "print(f\"Dictionary is: {dict1}\")"
      ],
      "metadata": {
        "colab": {
          "base_uri": "https://localhost:8080/"
        },
        "id": "0WWDTVoH9aKo",
        "outputId": "7a4efcc1-3c52-4a28-979f-fd00aeccf412"
      },
      "execution_count": null,
      "outputs": [
        {
          "output_type": "stream",
          "name": "stdout",
          "text": [
            "Dictionary is: {'name': 'Suzan', 'age': 25, 'city': 'New York'}\n"
          ]
        }
      ]
    },
    {
      "cell_type": "markdown",
      "source": [
        "Q22. Write a code to add a new key-value pair \"country\": \"USA\" to the dictionary {'name': 'John', 'age': 25}."
      ],
      "metadata": {
        "id": "oNPpII_b7Se9"
      }
    },
    {
      "cell_type": "code",
      "source": [
        "dict2 = {'name': 'John', 'age': 25}\n",
        "dict2['country'] = 'USA'\n",
        "print(f\"Updated dictionary is: {dict2}\")"
      ],
      "metadata": {
        "colab": {
          "base_uri": "https://localhost:8080/"
        },
        "id": "FmCIqpAf9d_Q",
        "outputId": "48c67e56-fa36-4c4e-e2d0-82e23ecbced2"
      },
      "execution_count": null,
      "outputs": [
        {
          "output_type": "stream",
          "name": "stdout",
          "text": [
            "Updated dictionary is: {'name': 'John', 'age': 25, 'country': 'USA'}\n"
          ]
        }
      ]
    },
    {
      "cell_type": "markdown",
      "source": [
        " Q23. Write a code to access the value associated with the key \"name\" in the dictionary {'name': 'Alice', 'age': 30}."
      ],
      "metadata": {
        "id": "dgmc8ZFZ8nM7"
      }
    },
    {
      "cell_type": "code",
      "source": [
        "dict3 = {'name': 'Alice', 'age': 30}\n",
        "print(f\"Value associated with the key 'name' is: {dict3['name']}\")"
      ],
      "metadata": {
        "colab": {
          "base_uri": "https://localhost:8080/"
        },
        "id": "VB1hBnc_9iY3",
        "outputId": "9d5de102-339d-453d-8ec0-40a466ea518d"
      },
      "execution_count": null,
      "outputs": [
        {
          "output_type": "stream",
          "name": "stdout",
          "text": [
            "Value associated with the key 'name' is: Alice\n"
          ]
        }
      ]
    },
    {
      "cell_type": "markdown",
      "source": [
        "Q24. Write a code to remove the key \"age\" from the dictionary {'name': 'Bob', 'age': 22, 'city': 'New York'}."
      ],
      "metadata": {
        "id": "LjvDLnp98nzM"
      }
    },
    {
      "cell_type": "code",
      "source": [
        "dict4 = {'name': 'Bob', 'age': 22, 'city': 'New York'}\n",
        "del dict4['age']\n",
        "print(f\"Updated dictionary is: {dict4}\")"
      ],
      "metadata": {
        "colab": {
          "base_uri": "https://localhost:8080/"
        },
        "id": "hJM4aa8C-Y0t",
        "outputId": "97f1fac7-fab0-460f-b4e5-01c950de1dd9"
      },
      "execution_count": null,
      "outputs": [
        {
          "output_type": "stream",
          "name": "stdout",
          "text": [
            "Updated dictionary is: {'name': 'Bob', 'city': 'New York'}\n"
          ]
        }
      ]
    },
    {
      "cell_type": "markdown",
      "source": [
        "Q25. Write a code to check if the key \"city\" exists in the dictionary {'name': 'Alice', 'city': 'Paris'}."
      ],
      "metadata": {
        "id": "sXyP7zSM8v2X"
      }
    },
    {
      "cell_type": "code",
      "source": [
        "dict5 = {\n",
        "    'name': 'Alice',\n",
        "    'city': 'Paris'\n",
        "}\n",
        "print(f\"Is the key 'city' exists in the dictionary: {'city' in dict5}\")"
      ],
      "metadata": {
        "colab": {
          "base_uri": "https://localhost:8080/"
        },
        "id": "YpHkHVT7_vYD",
        "outputId": "46a51f20-f74b-4b9b-e72f-b8a5dde7b435"
      },
      "execution_count": null,
      "outputs": [
        {
          "output_type": "stream",
          "name": "stdout",
          "text": [
            "Is the key 'city' exists in the dictionary: True\n"
          ]
        }
      ]
    },
    {
      "cell_type": "markdown",
      "source": [
        "Q26. Write a code to create a list, a tuple, and a dictionary, and print them all."
      ],
      "metadata": {
        "id": "BRjilhzY80N-"
      }
    },
    {
      "cell_type": "code",
      "source": [
        "my_list = [1, 2, 3, 4, 5]\n",
        "my_tuple = (10, 20, 30, 40, 50)\n",
        "my_dict = {\n",
        "    \"name\": \"Alice\",\n",
        "    \"age\": 30,\n",
        "    \"city\": \"New York\"\n",
        "}\n",
        "print(f\"List is: {my_list}\")\n",
        "print(f\"Tuple is: {my_tuple}\")\n",
        "print(f\"Dictionary is: {my_dict}\")"
      ],
      "metadata": {
        "colab": {
          "base_uri": "https://localhost:8080/"
        },
        "id": "6c-z5dEl_6Ne",
        "outputId": "d49d6b5b-3a19-4300-afdb-98c50128e43a"
      },
      "execution_count": null,
      "outputs": [
        {
          "output_type": "stream",
          "name": "stdout",
          "text": [
            "List is: [1, 2, 3, 4, 5]\n",
            "Tuple is: (10, 20, 30, 40, 50)\n",
            "Dictionary is: {'name': 'Alice', 'age': 30, 'city': 'New York'}\n"
          ]
        }
      ]
    },
    {
      "cell_type": "markdown",
      "source": [
        "Q27. Write a code to create a list of 5 random numbers between 1 and 100, sort it in ascending order, and print the result(replaced)."
      ],
      "metadata": {
        "id": "lC27es8k84Eo"
      }
    },
    {
      "cell_type": "code",
      "source": [
        "import random\n",
        "\n",
        "random_list = [random.randint(1, 100) for _ in range(5)]\n",
        "random_list.sort()\n",
        "print(f\"Sorted list is: {random_list}\")"
      ],
      "metadata": {
        "colab": {
          "base_uri": "https://localhost:8080/"
        },
        "id": "nkih4yYsAEL9",
        "outputId": "a9089d33-d1a5-4280-f221-ace489cff743"
      },
      "execution_count": null,
      "outputs": [
        {
          "output_type": "stream",
          "name": "stdout",
          "text": [
            "Sorted list is: [50, 60, 77, 89, 100]\n"
          ]
        }
      ]
    },
    {
      "cell_type": "markdown",
      "source": [
        "Q28. Write a code to create a list with strings and print the element at the third index."
      ],
      "metadata": {
        "id": "iAE1fmoD9EZP"
      }
    },
    {
      "cell_type": "code",
      "source": [
        "mixed_list = ['hello', 10, 3.14, 'suzan', [1, 2, 3], True]\n",
        "print(f\"Element at the third index is: {mixed_list[3]}\")"
      ],
      "metadata": {
        "colab": {
          "base_uri": "https://localhost:8080/"
        },
        "id": "Ot05upL-APoQ",
        "outputId": "19f78806-8e76-4a34-e1b0-bea73cb8df74"
      },
      "execution_count": null,
      "outputs": [
        {
          "output_type": "stream",
          "name": "stdout",
          "text": [
            "Element at the third index is: suzan\n"
          ]
        }
      ]
    },
    {
      "cell_type": "markdown",
      "source": [
        "Q29. Write a code to combine two dictionaries into one and print the result."
      ],
      "metadata": {
        "id": "uanrVtEc9GUj"
      }
    },
    {
      "cell_type": "code",
      "source": [
        "dict1 = {'a': 1, 'b': 2}\n",
        "dict2 = {'c': 3, 'd': 4}\n",
        "combined_dict = {**dict1, **dict2}\n",
        "print(f\"Combined dictionary is: {combined_dict}\")"
      ],
      "metadata": {
        "colab": {
          "base_uri": "https://localhost:8080/"
        },
        "id": "Sy6xkUUzBmjd",
        "outputId": "35dc2436-ce75-456a-af94-bbc8bf77358c"
      },
      "execution_count": null,
      "outputs": [
        {
          "output_type": "stream",
          "name": "stdout",
          "text": [
            "Combined dictionary is: {'a': 1, 'b': 2, 'c': 3, 'd': 4}\n"
          ]
        }
      ]
    },
    {
      "cell_type": "markdown",
      "source": [
        "Q30. Write a code to convert a list of strings into a set."
      ],
      "metadata": {
        "id": "A9T-Jj9G9KHH"
      }
    },
    {
      "cell_type": "code",
      "source": [
        "list1 = ['apple', 'banana', 'orange', 'apple', 'banana']\n",
        "set1 = set(list1)\n",
        "print(f\"Set is: {set1}\")"
      ],
      "metadata": {
        "colab": {
          "base_uri": "https://localhost:8080/"
        },
        "id": "CEo6pCKnBrtJ",
        "outputId": "621a7e8d-df86-4994-8b5f-42c195c55ff5"
      },
      "execution_count": null,
      "outputs": [
        {
          "output_type": "stream",
          "name": "stdout",
          "text": [
            "Set is: {'apple', 'orange', 'banana'}\n"
          ]
        }
      ]
    }
  ]
}